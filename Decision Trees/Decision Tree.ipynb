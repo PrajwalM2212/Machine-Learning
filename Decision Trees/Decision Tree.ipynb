{
 "cells": [
  {
   "cell_type": "code",
   "execution_count": 86,
   "metadata": {},
   "outputs": [],
   "source": [
    "from __future__ import print_function"
   ]
  },
  {
   "cell_type": "code",
   "execution_count": 87,
   "metadata": {},
   "outputs": [],
   "source": [
    "feature_names = [\"height\" , \"hair-length\" , \"voice-pitch\"]"
   ]
  },
  {
   "cell_type": "code",
   "execution_count": 88,
   "metadata": {},
   "outputs": [],
   "source": [
    "training_data = [ \n",
    "    \n",
    "      # height , hair-length , voice-pitch\n",
    "      [180, 15,0,'man'],                                                              \n",
    "      [167, 42,1,'woman'],                                                              \n",
    "      [136, 35,1,'woman'],                                                              \n",
    "      [174, 15,0,'man'],                                                              \n",
    "      [141, 28,1,'woman']\n",
    "]                                                              \n",
    "\n",
    "# labels\n",
    "Y = ['man', 'woman', 'woman', 'man', 'woman']"
   ]
  },
  {
   "cell_type": "code",
   "execution_count": 89,
   "metadata": {},
   "outputs": [],
   "source": [
    "def gen_counts(rows):\n",
    "    counts ={}\n",
    "    \n",
    "    for e in rows:\n",
    "        \n",
    "        e_label = e[-1]\n",
    "        if e_label not in counts:\n",
    "            counts[e_label] = 1\n",
    "        else:\n",
    "            counts[e_label] += 1\n",
    "            \n",
    "            \n",
    "    return counts\n"
   ]
  },
  {
   "cell_type": "code",
   "execution_count": 90,
   "metadata": {},
   "outputs": [],
   "source": [
    "def gini(data):\n",
    "    \"\"\"Calculate the gini index\"\"\"\n",
    "    counts = gen_counts(data)\n",
    "    impurity = 1\n",
    "    for d in counts:\n",
    "        prob = counts[d]/len(data)\n",
    "        impurity -= prob**2\n",
    "    return impurity\n",
    "    "
   ]
  },
  {
   "cell_type": "code",
   "execution_count": 91,
   "metadata": {},
   "outputs": [
    {
     "data": {
      "text/plain": [
       "0.0"
      ]
     },
     "execution_count": 91,
     "metadata": {},
     "output_type": "execute_result"
    }
   ],
   "source": [
    "gini(Y)"
   ]
  },
  {
   "cell_type": "code",
   "execution_count": 92,
   "metadata": {},
   "outputs": [
    {
     "data": {
      "text/plain": [
       "{'man': 2, 'woman': 3}"
      ]
     },
     "execution_count": 92,
     "metadata": {},
     "output_type": "execute_result"
    }
   ],
   "source": [
    "gen_counts(training_data)"
   ]
  },
  {
   "cell_type": "code",
   "execution_count": 93,
   "metadata": {},
   "outputs": [],
   "source": [
    "class Question:\n",
    "    \n",
    "    def __init__(self,column,value):\n",
    "        self.column = column;\n",
    "        self.value = value;\n",
    "        \n",
    "    def match(self,example):\n",
    "        \"\"\"Check if value matches\"\"\"\n",
    "        val = example[self.column]\n",
    "        return val == self.value\n",
    "    \n",
    "    def __repr__(self):\n",
    "        \"\"\"Compose a question\"\"\"\n",
    "        return \"Is %s <= %s \"%(feature_names[self.column], str(self.value))\n",
    "        \n",
    "    "
   ]
  },
  {
   "cell_type": "code",
   "execution_count": 94,
   "metadata": {},
   "outputs": [],
   "source": [
    "def partition(data,question):\n",
    "    true_rows,false_rows = [],[]\n",
    "    for row in data:\n",
    "        if question.match(row):\n",
    "            true_rows.append(row)\n",
    "        else:\n",
    "            false_rows.append(row)\n",
    "            \n",
    "    return true_rows,false_rows\n",
    "    "
   ]
  },
  {
   "cell_type": "code",
   "execution_count": 95,
   "metadata": {},
   "outputs": [
    {
     "data": {
      "text/plain": [
       "([[180, 15, 0, 'man'], [174, 15, 0, 'man']],\n",
       " [[167, 42, 1, 'woman'], [136, 35, 1, 'woman'], [141, 28, 1, 'woman']])"
      ]
     },
     "execution_count": 95,
     "metadata": {},
     "output_type": "execute_result"
    }
   ],
   "source": [
    "# partition based on question \" Is Voice Pitch equal to 0 ? \"\n",
    "partition(training_data,Question(2,0))"
   ]
  },
  {
   "cell_type": "code",
   "execution_count": 96,
   "metadata": {},
   "outputs": [],
   "source": [
    "def information_gain(true_rows,false_rows,data_uncertainity):\n",
    "    p = len(true_rows)/(len(true_rows)+len(false_rows))\n",
    "    return data_uncertainity-(p*gini(true_rows))-((1-p)*gini(false_rows))\n",
    "    "
   ]
  },
  {
   "cell_type": "code",
   "execution_count": 97,
   "metadata": {},
   "outputs": [],
   "source": [
    "data_uncertainity = gini(training_data)\n"
   ]
  },
  {
   "cell_type": "code",
   "execution_count": 98,
   "metadata": {},
   "outputs": [
    {
     "name": "stdout",
     "output_type": "stream",
     "text": [
      "0.48\n"
     ]
    }
   ],
   "source": [
    "print(data_uncertainity)"
   ]
  },
  {
   "cell_type": "code",
   "execution_count": 99,
   "metadata": {},
   "outputs": [
    {
     "data": {
      "text/plain": [
       "0.17999999999999994"
      ]
     },
     "execution_count": 99,
     "metadata": {},
     "output_type": "execute_result"
    }
   ],
   "source": [
    "\n",
    "t,f = partition(training_data,Question(0,180))\n",
    "information_gain(t,f,data_uncertainity)"
   ]
  },
  {
   "cell_type": "code",
   "execution_count": 100,
   "metadata": {},
   "outputs": [],
   "source": [
    "def find_best_split(training_data):\n",
    "    best_gain = 0\n",
    "    best_question = None\n",
    "    data_uncertainity = gini(training_data)\n",
    "    num_features = len(training_data[0])-1\n",
    "    \n",
    "    for col in range(num_features):\n",
    "        \n",
    "        values = set([row[col] for row in training_data])\n",
    "        \n",
    "        for value in values:\n",
    "            \n",
    "            question = Question(col,value)\n",
    "            \n",
    "            t_rows,f_rows = partition(training_data,question)\n",
    "            \n",
    "            if len(t_rows)==0 or len(f_rows)==0:\n",
    "                continue\n",
    "            \n",
    "            gain = information_gain(t_rows,f_rows,data_uncertainity)\n",
    "            \n",
    "            if gain > best_gain:\n",
    "                best_gain = gain\n",
    "                best_question = question\n",
    "                \n",
    "    return best_gain,best_question\n",
    "        "
   ]
  },
  {
   "cell_type": "code",
   "execution_count": 101,
   "metadata": {},
   "outputs": [
    {
     "data": {
      "text/plain": [
       "(0.48, Is hair-length <= 15 )"
      ]
     },
     "execution_count": 101,
     "metadata": {},
     "output_type": "execute_result"
    }
   ],
   "source": [
    "find_best_split(training_data)"
   ]
  },
  {
   "cell_type": "code",
   "execution_count": 102,
   "metadata": {},
   "outputs": [],
   "source": [
    "class Leaf:\n",
    "    \n",
    "    def __init__(self,rows):\n",
    "        self.predictions = gen_counts(rows)"
   ]
  },
  {
   "cell_type": "code",
   "execution_count": 103,
   "metadata": {},
   "outputs": [],
   "source": [
    "class Decision_Node:\n",
    "    \n",
    "    def __init__(self,question,true_branch,false_branch):\n",
    "        self.question = question\n",
    "        self.true_branch = true_branch\n",
    "        self.false_branch = false_branch"
   ]
  },
  {
   "cell_type": "code",
   "execution_count": 104,
   "metadata": {},
   "outputs": [],
   "source": [
    "def build_tree(training_data):\n",
    "    \n",
    "    best_gain , best_question = find_best_split(training_data)\n",
    "   \n",
    "    if best_gain == 0:\n",
    "        return Leaf(training_data)\n",
    "    \n",
    "    true_rows , false_rows = partition(training_data,best_question)\n",
    "    \n",
    "    true_branch = build_tree(true_rows)\n",
    "    \n",
    "    false_branch = build_tree(false_rows)\n",
    "    \n",
    "    return Decision_Node(best_question,true_branch,false_branch)\n",
    "    "
   ]
  },
  {
   "cell_type": "code",
   "execution_count": 105,
   "metadata": {},
   "outputs": [],
   "source": [
    "def print_tree(node):\n",
    "    if isinstance(node,Leaf):\n",
    "        print(\" \" + \"Predict\", node.predictions)\n",
    "        return\n",
    "        \n",
    "    print(\" \" + str(node.question))\n",
    "    \n",
    "    print(\" \" + \"--> True\")\n",
    "    print_tree(node.true_branch)\n",
    "    \n",
    "    print(\" \" + \"--> False\")\n",
    "    print_tree(node.false_branch)\n",
    "    "
   ]
  },
  {
   "cell_type": "code",
   "execution_count": 106,
   "metadata": {},
   "outputs": [],
   "source": [
    "tree = build_tree(training_data)"
   ]
  },
  {
   "cell_type": "code",
   "execution_count": 107,
   "metadata": {},
   "outputs": [
    {
     "name": "stdout",
     "output_type": "stream",
     "text": [
      " Is hair-length <= 15 \n",
      " --> True\n",
      " Predict {'man': 2}\n",
      " --> False\n",
      " Predict {'woman': 3}\n"
     ]
    }
   ],
   "source": [
    "print_tree(tree)"
   ]
  },
  {
   "cell_type": "code",
   "execution_count": null,
   "metadata": {},
   "outputs": [],
   "source": []
  }
 ],
 "metadata": {
  "kernelspec": {
   "display_name": "Python 3",
   "language": "python",
   "name": "python3"
  },
  "language_info": {
   "codemirror_mode": {
    "name": "ipython",
    "version": 3
   },
   "file_extension": ".py",
   "mimetype": "text/x-python",
   "name": "python",
   "nbconvert_exporter": "python",
   "pygments_lexer": "ipython3",
   "version": "3.6.4"
  }
 },
 "nbformat": 4,
 "nbformat_minor": 2
}
