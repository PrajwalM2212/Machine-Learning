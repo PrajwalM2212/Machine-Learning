{
 "cells": [
  {
   "cell_type": "code",
   "execution_count": 1,
   "metadata": {},
   "outputs": [],
   "source": [
    "import pandas as pd\n",
    "import numpy as np\n"
   ]
  },
  {
   "cell_type": "code",
   "execution_count": 8,
   "metadata": {},
   "outputs": [
    {
     "data": {
      "text/html": [
       "<div>\n",
       "<style>\n",
       "    .dataframe thead tr:only-child th {\n",
       "        text-align: right;\n",
       "    }\n",
       "\n",
       "    .dataframe thead th {\n",
       "        text-align: left;\n",
       "    }\n",
       "\n",
       "    .dataframe tbody tr th {\n",
       "        vertical-align: top;\n",
       "    }\n",
       "</style>\n",
       "<table border=\"1\" class=\"dataframe\">\n",
       "  <thead>\n",
       "    <tr style=\"text-align: right;\">\n",
       "      <th></th>\n",
       "      <th>gender</th>\n",
       "      <th>height</th>\n",
       "      <th>weight</th>\n",
       "      <th>foot_size</th>\n",
       "    </tr>\n",
       "  </thead>\n",
       "  <tbody>\n",
       "    <tr>\n",
       "      <th>0</th>\n",
       "      <td>male</td>\n",
       "      <td>6.00</td>\n",
       "      <td>180</td>\n",
       "      <td>12</td>\n",
       "    </tr>\n",
       "    <tr>\n",
       "      <th>1</th>\n",
       "      <td>male</td>\n",
       "      <td>5.92</td>\n",
       "      <td>190</td>\n",
       "      <td>11</td>\n",
       "    </tr>\n",
       "    <tr>\n",
       "      <th>2</th>\n",
       "      <td>male</td>\n",
       "      <td>5.58</td>\n",
       "      <td>170</td>\n",
       "      <td>12</td>\n",
       "    </tr>\n",
       "    <tr>\n",
       "      <th>3</th>\n",
       "      <td>male</td>\n",
       "      <td>5.92</td>\n",
       "      <td>165</td>\n",
       "      <td>10</td>\n",
       "    </tr>\n",
       "    <tr>\n",
       "      <th>4</th>\n",
       "      <td>female</td>\n",
       "      <td>5.00</td>\n",
       "      <td>100</td>\n",
       "      <td>6</td>\n",
       "    </tr>\n",
       "  </tbody>\n",
       "</table>\n",
       "</div>"
      ],
      "text/plain": [
       "   gender  height  weight  foot_size\n",
       "0    male    6.00     180         12\n",
       "1    male    5.92     190         11\n",
       "2    male    5.58     170         12\n",
       "3    male    5.92     165         10\n",
       "4  female    5.00     100          6"
      ]
     },
     "execution_count": 8,
     "metadata": {},
     "output_type": "execute_result"
    }
   ],
   "source": [
    "data = pd.DataFrame()\n",
    "data['gender'] = ['male','male','male','male','female','female','female','female']\n",
    "data['height']=[6,5.92,5.58,5.92,5,5.5,5.42,5.75]\n",
    "data['weight']=[180,190,170,165,100,150,130,150]\n",
    "data['foot_size']= [12,11,12,10,6,8,7,9]\n",
    "data.head()"
   ]
  },
  {
   "cell_type": "code",
   "execution_count": 7,
   "metadata": {},
   "outputs": [],
   "source": [
    "# According to naive bayes classifer P(gender|personsData) = P(personsData|gender)P(gender)/P(personsData) where gender\n",
    "# is either male or female\n",
    "# Since we seek to maximize the posterior probability, we may choose to not calculate the denominator P(personsData) \n",
    "# and classify based on the one with maximum numerator"
   ]
  },
  {
   "cell_type": "code",
   "execution_count": 35,
   "metadata": {},
   "outputs": [],
   "source": [
    "#First we will calculate the P(Gender)\n",
    "# P(male) = number of males in data / size of data\n",
    "\n",
    "size = data['gender'].count()\n",
    "\n",
    "num_males = data['gender'][data['gender'] == 'male'].count()\n",
    "num_females = data['gender'][data['gender']=='female'].count()"
   ]
  },
  {
   "cell_type": "code",
   "execution_count": 38,
   "metadata": {},
   "outputs": [],
   "source": [
    "# probability that the person is a male\n",
    "p_male = num_males/size\n",
    "# probability that a person is a female\n",
    "p_female = num_females/size"
   ]
  },
  {
   "cell_type": "code",
   "execution_count": 61,
   "metadata": {},
   "outputs": [],
   "source": [
    "# probability of personsDate|gender is P(height|gender)P(weight|gender)P(foot_size|gender)\n",
    "# to calculate that we need average and variance of each of these attributes\n",
    "# p(height|gender) is (1/sqrt((2*pi)*variance of gender height))*e^(- (observation height - avg heigth)**2/2*vairaince of gender height)\n",
    "\n",
    "males = data[data['gender']=='male']\n",
    "females = data[data['gender']=='female']"
   ]
  },
  {
   "cell_type": "code",
   "execution_count": 62,
   "metadata": {},
   "outputs": [],
   "source": [
    "# required data for heigth attribute\n",
    "var_heigth_males = males['height'].var()\n",
    "var_heigth_females = females['height'].var()\n",
    "avg_heigth_males = males['height'].mean()\n",
    "avg_heigth_females = females['height'].mean()"
   ]
  },
  {
   "cell_type": "code",
   "execution_count": 67,
   "metadata": {},
   "outputs": [],
   "source": [
    "# required data for weight attribute\n",
    "var_weight_males = males['weight'].var()\n",
    "var_weight_females = females['weight'].var()\n",
    "avg_weight_males = males['weight'].mean()\n",
    "avg_weight_females = females['weight'].mean()"
   ]
  },
  {
   "cell_type": "code",
   "execution_count": 68,
   "metadata": {},
   "outputs": [],
   "source": [
    "# required data for foot_size attribute\n",
    "var_foot_males = males['foot_size'].var()\n",
    "var_foot_females = females['foot_size'].var()\n",
    "avg_foot_males = males['foot_size'].mean()\n",
    "avg_foot_females = females['foot_size'].mean()"
   ]
  },
  {
   "cell_type": "code",
   "execution_count": 77,
   "metadata": {},
   "outputs": [],
   "source": [
    "# now we we calculate the probability of each attribute\n",
    "def prob_attribute(var,avg,observation):\n",
    "    p = 1/(np.sqrt(2*np.pi*var)) * np.exp((-(observation-avg)**2)/(2*var))\n",
    "    return p"
   ]
  },
  {
   "cell_type": "code",
   "execution_count": 78,
   "metadata": {},
   "outputs": [
    {
     "data": {
      "text/plain": [
       "0.0034083449634525155"
      ]
     },
     "execution_count": 78,
     "metadata": {},
     "output_type": "execute_result"
    }
   ],
   "source": [
    "# probability that person is male given data\n",
    "\n",
    "prob_male_given_data = ((prob_attribute(var_heigth_males,avg_heigth_males,data['height'][2]))\n",
    "*(prob_attribute(var_weight_males,avg_weight_males,data['weight'][2]))\n",
    "*(prob_attribute(var_foot_males,avg_foot_males,data['foot_size'][2])))*p_male\n",
    "\n",
    "prob_male_given_data"
   ]
  },
  {
   "cell_type": "code",
   "execution_count": 79,
   "metadata": {},
   "outputs": [
    {
     "data": {
      "text/plain": [
       "1.9019744635626327e-06"
      ]
     },
     "execution_count": 79,
     "metadata": {},
     "output_type": "execute_result"
    }
   ],
   "source": [
    "# probability that person is female given data\n",
    "prob_female_given_data = ((prob_attribute(var_heigth_females,avg_heigth_females,data['height'][2]))\n",
    "*(prob_attribute(var_weight_females,avg_weight_females,data['weight'][2]))\n",
    "*(prob_attribute(var_foot_females,avg_foot_females,data['foot_size'][2])))*p_female\n",
    "\n",
    "prob_female_given_data"
   ]
  },
  {
   "cell_type": "code",
   "execution_count": 80,
   "metadata": {},
   "outputs": [],
   "source": [
    "# Since the value for male is greater we predict that the person is male"
   ]
  }
 ],
 "metadata": {
  "kernelspec": {
   "display_name": "Python 3",
   "language": "python",
   "name": "python3"
  },
  "language_info": {
   "codemirror_mode": {
    "name": "ipython",
    "version": 3
   },
   "file_extension": ".py",
   "mimetype": "text/x-python",
   "name": "python",
   "nbconvert_exporter": "python",
   "pygments_lexer": "ipython3",
   "version": "3.6.4"
  }
 },
 "nbformat": 4,
 "nbformat_minor": 2
}
